{
  "nbformat": 4,
  "nbformat_minor": 0,
  "metadata": {
    "colab": {
      "name": "END_Session3.ipynb",
      "provenance": [],
      "collapsed_sections": []
    },
    "kernelspec": {
      "name": "python3",
      "display_name": "Python 3"
    }
  },
  "cells": [
    {
      "cell_type": "code",
      "metadata": {
        "id": "9O0wXhfSQ8zm",
        "outputId": "a46ec453-ae88-4674-b665-0f52f6518602",
        "colab": {
          "base_uri": "https://localhost:8080/"
        }
      },
      "source": [
        "# A pre-calculated list to store fibonacci numbers till 10000\n",
        "fibonacci_numbers = [0, 1]\n",
        "while fibonacci_numbers[-1] + fibonacci_numbers[-2] < 10000:\n",
        "    fibonacci_numbers.append(fibonacci_numbers[-1] + fibonacci_numbers[-2])\n",
        "    \n",
        "# A function using only list filter lambda that can tell whether a number is a Fibonacci number or not\n",
        "check_fibonacci = lambda l : list(filter(lambda x: x in fibonacci_numbers, l))\n",
        "\n",
        "check_fibonacci([1, 5, 333, 777, 1597, 6765, 8000])"
      ],
      "execution_count": null,
      "outputs": [
        {
          "output_type": "execute_result",
          "data": {
            "text/plain": [
              "[1, 5, 1597, 6765]"
            ]
          },
          "metadata": {
            "tags": []
          },
          "execution_count": 7
        }
      ]
    },
    {
      "cell_type": "code",
      "metadata": {
        "id": "c1I8OLAFSYBO"
      },
      "source": [
        "#this is for testing with assert\n",
        "def test_fibonacci():\n",
        "    assert check_fibonacci([1, 5, 333, 777, 1597, 6765, 8000]) == [1, 5, 1597, 6765], \"check_fibonacci is not correctly implemented!\" "
      ],
      "execution_count": null,
      "outputs": []
    },
    {
      "cell_type": "code",
      "metadata": {
        "id": "xe5rWunIRV68",
        "outputId": "c211744d-6b52-4e5b-da93-c6f4c716610b",
        "colab": {
          "base_uri": "https://localhost:8080/",
          "height": 35
        }
      },
      "source": [
        "# List comprehension to add 2 iterables a and b such that a is even and b is odd\n",
        "add_even_odd = lambda a, b : [x + y for x, y in zip(a, b) if x % 2 == 0 and y % 2 != 0]\n",
        "\n",
        "add_even_odd([4, 7, 10, 15, 20], [3, 6, 8, 1, 11])\n",
        "\n",
        "#this is for testing using assert\n",
        "def test_add_even_odd():\n",
        "    assert add_even_odd([4, 7, 10, 15, 20], [3, 6, 8, 1, 11]) == [7, 31], \"add_even_odd is not correctly implemented!\"\n",
        "    \n",
        "\n",
        "# List comprehension to strip every vowel from a string provided\n",
        "vowels = ['a', 'e', 'i', 'o', 'u', 'A', 'E', 'I', '0', 'U']\n",
        "strip_vowels = lambda s : [x for x in s if x not in vowels]  \n",
        "\n",
        "strip_vowels('tsai')\n",
        "\n",
        "#this is for testing using assert\n",
        "def test_strip_vowels():\n",
        "    assert strip_vowels('tsai') == ['t', 's'], \"strip_vowels is not correctly implemented!\"  \n",
        "    \n",
        "\n",
        "# List comprehension to act like a ReLU function for a 1D array\n",
        "relu_func = lambda l : [x if x > 0 else 0 for x in l]\n",
        "\n",
        "relu_func([1.43, -0.76, 0.356, -1.89])   \n",
        "\n",
        "def test_relu_func():\n",
        "    assert relu_func([1.43, -0.76, 0.356, -1.89]) == [1.43, 0, 0.356, 0], \"relu_func is not correctly implemented!\"\n",
        "    \n",
        "\n",
        "# List comprehension to act like a sigmoid function for a 1D array\n",
        "import math    \n",
        "sigmoid_func = lambda l : [(1 / (1 + math.exp(-x))) for x in l]\n",
        "\n",
        "sigmoid_func([1, 2, -3, -4, 0])\n",
        "\n",
        "def test_sigmoid_func():\n",
        "    assert sigmoid_func([1, 2, -3, -4, 0]) == [0.7310585786300049, 0.8807970779778823, 0.04742587317756678, 0.01798620996209156, 0.5], \"sigmoid_func is not correctly implemented!\"  \n",
        "\n",
        "\n",
        "# List comprehension that takes a small character string and shifts all characters by 5\n",
        "alphabets = ['a', 'b', 'c', 'd', 'e', 'f', 'g', 'h', 'i', 'j', 'k', 'l', 'm', 'n', 'o', 'p', 'q', 'r', 's', 't', 'u', 'v', 'w', 'x', 'y', 'z']\n",
        "shift_characters = lambda s : \"\".join([alphabets[alphabets.index(x) + 5] if alphabets.index(x) < 21 else alphabets[alphabets.index(x) - 26 + 5] for x in s])    \n",
        "\n",
        "shift_characters('tsai')"
      ],
      "execution_count": null,
      "outputs": [
        {
          "output_type": "execute_result",
          "data": {
            "application/vnd.google.colaboratory.intrinsic+json": {
              "type": "string"
            },
            "text/plain": [
              "'yxfn'"
            ]
          },
          "metadata": {
            "tags": []
          },
          "execution_count": 9
        }
      ]
    },
    {
      "cell_type": "code",
      "metadata": {
        "id": "w4JbnsxuSgs_"
      },
      "source": [
        "def test_shift_characters():\n",
        "    assert shift_characters('tsai') == 'yxfn', \"shift_characters is not correctly implemented!\"\n",
        "    assert shift_characters('zero') == 'ejwt', \"shift_characters is not correctly implemented!\""
      ],
      "execution_count": null,
      "outputs": []
    },
    {
      "cell_type": "code",
      "metadata": {
        "id": "4VCh7VJyRltE",
        "outputId": "bb752067-7954-4450-ba83-7104bf097c5c",
        "colab": {
          "base_uri": "https://localhost:8080/"
        }
      },
      "source": [
        "# List comprehension to check if given input has any swear words\n",
        "with open(\"./swear_words.txt\", \"r\") as f:\n",
        "    swear_words = f.read().split()\n",
        "\n",
        "check_swear_words = lambda s : any([word for word in s.split() if word.lower() in swear_words])    \n",
        "\n",
        "user_input1 = \"\"\"Goa Chief Minister Pramod Sawant on Sunday said an asswhole insurance cover of ₹50 lakh has been extended to all health workers who are at the forefront of the battle against COVID-19.\n",
        "The insurance cover is provided under the central governments flagship Pradhan Mantri Garib Kalyan Yojana. \n",
        "“Insurance cover of ₹50 lakh has been extended to all health workers in Goa,” Mr. Sawant tweeted. \n",
        "The Pradhan Mantri Garib Kalyan Yojana provides an insurance cover of ₹50 lakh per health worker in case of loss of life due to COVID-19 or accidental loss of life on account of coronavirus-related duties, he said.\n",
        "The scheme is funded through the National Disaster Response Fund, operated by the Ministry of Health and Family Welfare.\"\"\"\n",
        "    \n",
        "check_swear_words(user_input1)"
      ],
      "execution_count": 4,
      "outputs": [
        {
          "output_type": "execute_result",
          "data": {
            "text/plain": [
              "True"
            ]
          },
          "metadata": {
            "tags": []
          },
          "execution_count": 4
        }
      ]
    },
    {
      "cell_type": "code",
      "metadata": {
        "id": "6y54i6pTSmc3"
      },
      "source": [
        "def test_swear_words():\n",
        "    user_input1 = \"\"\"Goa Chief Minister Pramod Sawant on Sunday said an asswhole insurance cover of ₹50 lakh has been extended to all health workers who are at the forefront of the battle against COVID-19.\n",
        "    The insurance cover is provided under the central governments flagship Pradhan Mantri Garib Kalyan Yojana. \n",
        "    “Insurance cover of ₹50 lakh has been extended to all health workers in Goa,” Mr. Sawant tweeted. \n",
        "    The Pradhan Mantri Garib Kalyan Yojana provides an insurance cover of ₹50 lakh per health worker in case of loss of life due to COVID-19 or accidental loss of life on account of coronavirus-related duties, he said.\n",
        "    The scheme is funded through the National Disaster Response Fund, operated by the Ministry of Health and Family Welfare.\"\"\"\n",
        "\n",
        "    user_input2 = \"\"\"Goa Chief Minister Pramod Sawant on Sunday said an insurance cover of ₹50 lakh has been extended to all health workers who are at the forefront of the battle against COVID-19.\n",
        "    The insurance cover is provided under the central governments flagship Pradhan Mantri Garib Kalyan Yojana. \n",
        "    “Insurance cover of ₹50 lakh has been extended to all health workers in Goa,” Mr. Sawant tweeted. \n",
        "    The Pradhan Mantri Garib Kalyan Yojana provides an insurance cover of ₹50 lakh per health worker in case of loss of life due to COVID-19 or accidental loss of life on account of coronavirus-related duties, he said.\n",
        "    The scheme is funded through the National Disaster Response Fund, operated by the Ministry of Health and Family Welfare.\"\"\"\n",
        "\n",
        "    assert check_swear_words(user_input1) == True, \"check_swear_words is not correctly implemented!\"\n",
        "    assert check_swear_words(user_input2) == False, \"check_swear_words is not correctly implemented!\""
      ],
      "execution_count": 5,
      "outputs": []
    },
    {
      "cell_type": "code",
      "metadata": {
        "id": "FLSIFcq-Rxr4",
        "outputId": "7e6ee018-61a0-4271-9a5f-cb9505b0c0c9",
        "colab": {
          "base_uri": "https://localhost:8080/"
        }
      },
      "source": [
        "from functools import reduce\n",
        "\n",
        "# Reduce function to add only even numbers in a list\n",
        "add_even_numbers = lambda l : reduce(lambda a, b: a + b if b % 2 == 0 else a, l, 0)\n",
        "add_even_numbers([10, 15, 17, 20, 33, 40])"
      ],
      "execution_count": 9,
      "outputs": [
        {
          "output_type": "execute_result",
          "data": {
            "text/plain": [
              "70"
            ]
          },
          "metadata": {
            "tags": []
          },
          "execution_count": 9
        }
      ]
    },
    {
      "cell_type": "code",
      "metadata": {
        "id": "RlXihfsFTgVH"
      },
      "source": [
        "def test_add_even_numbers():\n",
        "    assert add_even_numbers([10, 15, 17, 20, 33, 40]) == 70, \"add_even_numbers is not correctly implemented!\"    "
      ],
      "execution_count": null,
      "outputs": []
    },
    {
      "cell_type": "code",
      "metadata": {
        "id": "A3wHCKTHTpSC",
        "outputId": "7e06ed88-1090-43f5-a485-4b9f68d73651",
        "colab": {
          "base_uri": "https://localhost:8080/",
          "height": 35
        }
      },
      "source": [
        "# Reduce function to find the biggest character in a string\n",
        "find_biggest_character = lambda s : reduce(lambda x, y: x if ord(x) > ord(y) else y, s)    \n",
        "find_biggest_character(\"SomaKorada\")"
      ],
      "execution_count": 10,
      "outputs": [
        {
          "output_type": "execute_result",
          "data": {
            "application/vnd.google.colaboratory.intrinsic+json": {
              "type": "string"
            },
            "text/plain": [
              "'r'"
            ]
          },
          "metadata": {
            "tags": []
          },
          "execution_count": 10
        }
      ]
    },
    {
      "cell_type": "code",
      "metadata": {
        "id": "eCGu5lqNTt6G"
      },
      "source": [
        "def test_find_biggest_character():\n",
        "    assert find_biggest_character(\"SomaKorada\") == 'r', \"find_biggest_character is not correctly implemented!\""
      ],
      "execution_count": null,
      "outputs": []
    },
    {
      "cell_type": "code",
      "metadata": {
        "id": "X5HE_9rST0lG",
        "outputId": "642a4a06-45c3-48e1-9626-50345df173cc",
        "colab": {
          "base_uri": "https://localhost:8080/"
        }
      },
      "source": [
        "# Reduce function to add every 3rd number in a list\n",
        "add_third_element = lambda l : reduce(lambda x, y: x + y, l[2::3], 0)\n",
        "add_third_element([1, 2, 3, 4, 5, 6]) "
      ],
      "execution_count": 11,
      "outputs": [
        {
          "output_type": "execute_result",
          "data": {
            "text/plain": [
              "9"
            ]
          },
          "metadata": {
            "tags": []
          },
          "execution_count": 11
        }
      ]
    },
    {
      "cell_type": "code",
      "metadata": {
        "id": "J43lkh-4T3me"
      },
      "source": [
        "def test_add_third_element():\n",
        "    assert add_third_element([1, 2, 3, 4, 5, 6]) == 9, \"add_third_element is not correctly implemented!\""
      ],
      "execution_count": null,
      "outputs": []
    },
    {
      "cell_type": "code",
      "metadata": {
        "id": "BWtMFFssR8is",
        "outputId": "37b7527a-b3ed-4466-8641-154037ed5adf",
        "colab": {
          "base_uri": "https://localhost:8080/"
        }
      },
      "source": [
        "import random\n",
        "# An expression that generates 15 random KADDAADDDD number plates, where KA is fixed, D stands for a digit, and A stands for Capital alphabets. 10<<DD<<99 & 1000<<DDDD<<9999\n",
        "generate_number_plate = lambda : [f\"KA{random.randint(10, 99)}{chr(random.randint(65, 90))}{chr(random.randint(65, 90))}{random.randint(1000, 9999)}\" for i in range(15)]\n",
        "\n",
        "all([x[:2]==\"KA\" and (int(x[2:4]) in range(10, 100)) and (int(x[-4:]) in range(1000, 10000)) for x in generate_number_plate()])"
      ],
      "execution_count": 12,
      "outputs": [
        {
          "output_type": "execute_result",
          "data": {
            "text/plain": [
              "True"
            ]
          },
          "metadata": {
            "tags": []
          },
          "execution_count": 12
        }
      ]
    },
    {
      "cell_type": "code",
      "metadata": {
        "id": "Fica6KCoT7Dh"
      },
      "source": [
        "def test_generate_number_plate():\n",
        "    assert all([x[:2]==\"KA\" and (int(x[2:4]) in range(10, 100)) and (int(x[-4:]) in range(1000, 10000)) for x in generate_number_plate()])"
      ],
      "execution_count": null,
      "outputs": []
    },
    {
      "cell_type": "code",
      "metadata": {
        "id": "kjP7SeL2SKls",
        "outputId": "ac458e61-982c-43de-e3c3-5bc8a33b4b95",
        "colab": {
          "base_uri": "https://localhost:8080/"
        }
      },
      "source": [
        "import random\n",
        "from functools import partial\n",
        "# Partial function to let user input state ID and plate number\n",
        "random_plates = lambda st='KA', number_plate='1234' : [f\"{st}{random.randint(10, 99)}{chr(random.randint(65, 90))}{chr(random.randint(65, 90))}{number_plate}\" for i in range(15)]\n",
        "\n",
        "random_plates_partial = partial(random_plates, st = 'DL', number_plate = '7777')\n",
        "\n",
        "all([x[:2]==\"DL\" and int(x[2:4]) in range(10, 100) and int(x[-4:]) == 7777 for x in random_plates('DL', 7777)])"
      ],
      "execution_count": 13,
      "outputs": [
        {
          "output_type": "execute_result",
          "data": {
            "text/plain": [
              "True"
            ]
          },
          "metadata": {
            "tags": []
          },
          "execution_count": 13
        }
      ]
    },
    {
      "cell_type": "code",
      "metadata": {
        "id": "Qr8UKDh-SQkM"
      },
      "source": [
        "def test_random_plates():\n",
        "    assert all([x[:2]==\"DL\" and int(x[2:4]) in range(10, 100) and int(x[-4:]) == 7777 for x in random_plates('DL', 7777)])"
      ],
      "execution_count": null,
      "outputs": []
    }
  ]
}